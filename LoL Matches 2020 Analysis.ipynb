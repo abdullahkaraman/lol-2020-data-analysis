{
 "cells": [
  {
   "cell_type": "code",
   "execution_count": 13,
   "metadata": {},
   "outputs": [],
   "source": [
    "import matplotlib\n",
    "import matplotlib.pyplot as plt\n",
    "import numpy as np\n",
    "import pandas as pd"
   ]
  },
  {
   "cell_type": "code",
   "execution_count": 14,
   "metadata": {},
   "outputs": [],
   "source": [
    "lol = pd.read_csv('lol_data_02.csv')\n",
    "lolds = lol.dropna(how=\"all\")\n",
    "columns = lolds.columns"
   ]
  },
  {
   "cell_type": "code",
   "execution_count": 15,
   "metadata": {},
   "outputs": [],
   "source": [
    "blue_id = 100\n",
    "red_id = 200\n",
    "success_array = lolds['result'] == 1\n",
    "blue_teams_columns = lolds['playerid'] == blue_id\n",
    "red_teams_columns = lolds['playerid'] == red_id\n",
    "blue_win = len(lolds[success_array][blue_teams_columns])\n",
    "red_win = len(lolds[success_array][red_teams_columns])"
   ]
  },
  {
   "cell_type": "code",
   "execution_count": 16,
   "metadata": {},
   "outputs": [
    {
     "output_type": "stream",
     "name": "stdout",
     "text": [
      "3402 2993\n"
     ]
    }
   ],
   "source": [
    "print(blue_win, red_win)"
   ]
  },
  {
   "cell_type": "code",
   "execution_count": 17,
   "metadata": {},
   "outputs": [],
   "source": [
    "Teams = lolds[lolds[\"playerid\"]==(blue_id or red_id)]\n",
    "Players = lolds[lolds[\"playerid\"]!=(blue_id or red_id)]\n"
   ]
  },
  {
   "cell_type": "code",
   "execution_count": 18,
   "metadata": {},
   "outputs": [
    {
     "output_type": "stream",
     "name": "stdout",
     "text": [
      "                   gameid datacompleteness  \\\n10  ESPORTSTMNT03/1241318         complete   \n22  ESPORTSTMNT03/1241322         complete   \n34  ESPORTSTMNT03/1241324         complete   \n46  ESPORTSTMNT03/1241328         complete   \n58  ESPORTSTMNT03/1241386         complete   \n\n                                                  url league  year split  \\\n10  http://matchhistory.na.leagueoflegends.com/en/...  KeSPA  2020   NaN   \n22  http://matchhistory.na.leagueoflegends.com/en/...  KeSPA  2020   NaN   \n34  http://matchhistory.na.leagueoflegends.com/en/...  KeSPA  2020   NaN   \n46  http://matchhistory.na.leagueoflegends.com/en/...  KeSPA  2020   NaN   \n58  http://matchhistory.na.leagueoflegends.com/en/...  KeSPA  2020   NaN   \n\n    playoffs                 date  game  patch  ...  csdiffat10 goldat15  \\\n10         0  2020-01-03 07:33:26     1   9.24  ...         8.0  21953.0   \n22         0  2020-01-03 09:00:58     2   9.24  ...       -34.0  21714.0   \n34         0  2020-01-03 10:05:17     3   9.24  ...        25.0  24882.0   \n46         0  2020-01-03 10:57:28     4   9.24  ...       -21.0  22329.0   \n58         0  2020-01-04 05:33:33     1   9.24  ...        12.0  24644.0   \n\n     xpat15 csat15 opp_goldat15 opp_xpat15 opp_csat15 golddiffat15 xpdiffat15  \\\n10  27219.0  507.0      22778.0    28884.0      519.0       -825.0    -1665.0   \n22  26869.0  501.0      27198.0    31702.0      557.0      -5484.0    -4833.0   \n34  30349.0  584.0      22316.0    28252.0      531.0       2566.0     2097.0   \n46  26093.0  465.0      24800.0    29157.0      535.0      -2471.0    -3064.0   \n58  29576.0  550.0      23767.0    29371.0      524.0        877.0      205.0   \n\n   csdiffat15  \n10      -12.0  \n22      -56.0  \n34       53.0  \n46      -70.0  \n58       26.0  \n\n[5 rows x 105 columns]\n"
     ]
    }
   ],
   "source": [
    "print(Teams.head())"
   ]
  },
  {
   "cell_type": "code",
   "execution_count": 19,
   "metadata": {},
   "outputs": [
    {
     "output_type": "stream",
     "name": "stdout",
     "text": [
      "                  gameid datacompleteness  \\\n0  ESPORTSTMNT03/1241318         complete   \n1  ESPORTSTMNT03/1241318         complete   \n2  ESPORTSTMNT03/1241318         complete   \n3  ESPORTSTMNT03/1241318         complete   \n4  ESPORTSTMNT03/1241318         complete   \n\n                                                 url league  year split  \\\n0  http://matchhistory.na.leagueoflegends.com/en/...  KeSPA  2020   NaN   \n1  http://matchhistory.na.leagueoflegends.com/en/...  KeSPA  2020   NaN   \n2  http://matchhistory.na.leagueoflegends.com/en/...  KeSPA  2020   NaN   \n3  http://matchhistory.na.leagueoflegends.com/en/...  KeSPA  2020   NaN   \n4  http://matchhistory.na.leagueoflegends.com/en/...  KeSPA  2020   NaN   \n\n   playoffs                 date  game  patch  ...  csdiffat10 goldat15  \\\n0         0  2020-01-03 07:33:26     1   9.24  ...        23.0   4888.0   \n1         0  2020-01-03 07:33:26     1   9.24  ...       -10.0   4385.0   \n2         0  2020-01-03 07:33:26     1   9.24  ...        -9.0   4809.0   \n3         0  2020-01-03 07:33:26     1   9.24  ...         3.0   4915.0   \n4         0  2020-01-03 07:33:26     1   9.24  ...         1.0   2956.0   \n\n   xpat15 csat15 opp_goldat15 opp_xpat15 opp_csat15 golddiffat15 xpdiffat15  \\\n0  7368.0  131.0       4723.0     7202.0      118.0        165.0      166.0   \n1  4817.0   91.0       4784.0     4667.0       98.0       -399.0      150.0   \n2  6275.0  129.0       5218.0     8112.0      140.0       -409.0    -1837.0   \n3  4959.0  136.0       4864.0     5360.0      135.0         51.0     -401.0   \n4  3800.0   20.0       3189.0     3543.0       28.0       -233.0      257.0   \n\n  csdiffat15  \n0       13.0  \n1       -7.0  \n2      -11.0  \n3        1.0  \n4       -8.0  \n\n[5 rows x 105 columns]\n"
     ]
    }
   ],
   "source": [
    "print(Players.head())"
   ]
  },
  {
   "cell_type": "code",
   "execution_count": 20,
   "metadata": {},
   "outputs": [
    {
     "output_type": "stream",
     "name": "stdout",
     "text": [
      "count    6395.000000\nmean       13.585614\nstd         6.994947\nmin         0.000000\n25%         8.000000\n50%        13.000000\n75%        19.000000\nmax        42.000000\nName: kills, dtype: float64\n"
     ]
    }
   ],
   "source": [
    "print(Teams[\"kills\"].describe())"
   ]
  },
  {
   "cell_type": "code",
   "execution_count": 21,
   "metadata": {},
   "outputs": [
    {
     "output_type": "stream",
     "name": "stdout",
     "text": [
      "count    6395.000000\nmean       13.051446\nstd         7.301540\nmin         0.000000\n25%         7.000000\n50%        13.000000\n75%        18.000000\nmax        53.000000\nName: deaths, dtype: float64\n"
     ]
    }
   ],
   "source": [
    "print(Teams[\"deaths\"].describe())"
   ]
  },
  {
   "cell_type": "code",
   "execution_count": 22,
   "metadata": {},
   "outputs": [
    {
     "output_type": "stream",
     "name": "stdout",
     "text": [
      "count    6395.000000\nmean       31.117123\nstd        17.164466\nmin         0.000000\n25%        17.000000\n50%        31.000000\n75%        43.000000\nmax       108.000000\nName: assists, dtype: float64\n"
     ]
    }
   ],
   "source": [
    "print(Teams[\"assists\"].describe())"
   ]
  },
  {
   "cell_type": "code",
   "execution_count": 23,
   "metadata": {},
   "outputs": [
    {
     "output_type": "stream",
     "name": "stdout",
     "text": [
      "count    6395.000000\nmean        2.402189\nstd         1.430464\nmin         0.000000\n25%         1.000000\n50%         2.000000\n75%         4.000000\nmax         6.000000\nName: dragons, dtype: float64\n"
     ]
    }
   ],
   "source": [
    "print(Teams[\"dragons\"].describe())"
   ]
  },
  {
   "cell_type": "code",
   "execution_count": 24,
   "metadata": {},
   "outputs": [
    {
     "output_type": "stream",
     "name": "stdout",
     "text": [
      "count    6352.000000\nmean        1.177267\nstd         0.769682\nmin         0.000000\n25%         1.000000\n50%         1.000000\n75%         2.000000\nmax         2.000000\nName: heralds, dtype: float64\n"
     ]
    }
   ],
   "source": [
    "print(Teams[\"heralds\"].describe())"
   ]
  },
  {
   "cell_type": "code",
   "execution_count": 25,
   "metadata": {},
   "outputs": [
    {
     "output_type": "stream",
     "name": "stdout",
     "text": [
      "count    6395.000000\nmean        0.637998\nstd         0.692577\nmin         0.000000\n25%         0.000000\n50%         1.000000\n75%         1.000000\nmax         4.000000\nName: barons, dtype: float64\n"
     ]
    }
   ],
   "source": [
    "print(Teams[\"barons\"].describe())"
   ]
  },
  {
   "cell_type": "code",
   "execution_count": 26,
   "metadata": {},
   "outputs": [
    {
     "output_type": "stream",
     "name": "stdout",
     "text": [
      "count    6395.000000\nmean        6.251916\nstd         3.574472\nmin         0.000000\n25%         3.000000\n50%         7.000000\n75%         9.000000\nmax        11.000000\nName: towers, dtype: float64\n"
     ]
    }
   ],
   "source": [
    "print(Teams[\"towers\"].describe())"
   ]
  },
  {
   "cell_type": "code",
   "execution_count": 27,
   "metadata": {},
   "outputs": [
    {
     "output_type": "stream",
     "name": "stdout",
     "text": [
      "count    6392.000000\nmean      239.970119\nstd        68.837961\nmin        68.000000\n25%       190.000000\n50%       233.000000\n75%       281.000000\nmax       541.000000\nName: visionscore, dtype: float64\n"
     ]
    }
   ],
   "source": [
    "print(Teams[\"visionscore\"].describe())"
   ]
  },
  {
   "cell_type": "code",
   "execution_count": 28,
   "metadata": {},
   "outputs": [
    {
     "output_type": "stream",
     "name": "stdout",
     "text": [
      "count      6395.000000\nmean      57223.981079\nstd       10846.233311\nmin       26285.000000\n25%       49965.500000\n50%       56661.000000\n75%       63962.000000\nmax      106586.000000\nName: totalgold, dtype: float64\n"
     ]
    }
   ],
   "source": [
    "print(Teams[\"totalgold\"].describe())"
   ]
  },
  {
   "cell_type": "code",
   "execution_count": 29,
   "metadata": {},
   "outputs": [
    {
     "output_type": "stream",
     "name": "stdout",
     "text": [
      "count    4701.000000\nmean      816.566901\nstd       145.677527\nmin       351.000000\n25%       715.000000\n50%       803.000000\n75%       906.000000\nmax      1483.000000\nName: minionkills, dtype: float64\n"
     ]
    }
   ],
   "source": [
    "print(Teams[\"minionkills\"].describe())"
   ]
  },
  {
   "cell_type": "code",
   "execution_count": 30,
   "metadata": {},
   "outputs": [
    {
     "output_type": "stream",
     "name": "stdout",
     "text": [
      "count    6395.000000\nmean      209.909304\nstd        51.035112\nmin        66.000000\n25%       174.000000\n50%       207.000000\n75%       242.000000\nmax       435.000000\nName: monsterkills, dtype: float64\n"
     ]
    }
   ],
   "source": [
    "print(Teams[\"monsterkills\"].describe())"
   ]
  },
  {
   "cell_type": "code",
   "execution_count": 31,
   "metadata": {},
   "outputs": [
    {
     "output_type": "stream",
     "name": "stdout",
     "text": [
      "count     6344.000000\nmean     24687.603878\nstd       1844.296138\nmin      19593.000000\n25%      23381.000000\n50%      24511.000000\n75%      25758.250000\nmax      34110.000000\nName: goldat15, dtype: float64\n"
     ]
    }
   ],
   "source": [
    "print(Teams[\"goldat15\"].describe())"
   ]
  },
  {
   "cell_type": "code",
   "execution_count": 32,
   "metadata": {},
   "outputs": [
    {
     "output_type": "stream",
     "name": "stdout",
     "text": [
      "count     6344.000000\nmean     28966.867434\nstd       1543.770288\nmin      23168.000000\n25%      27939.750000\n50%      28943.000000\n75%      30018.250000\nmax      34910.000000\nName: xpat15, dtype: float64\n"
     ]
    }
   ],
   "source": [
    "print(Teams[\"xpat15\"].describe())"
   ]
  },
  {
   "cell_type": "code",
   "execution_count": 33,
   "metadata": {},
   "outputs": [
    {
     "output_type": "stream",
     "name": "stdout",
     "text": [
      "count    6344.000000\nmean      498.296185\nstd        35.456289\nmin       329.000000\n25%       476.000000\n50%       500.000000\n75%       522.000000\nmax       614.000000\nName: csat15, dtype: float64\n"
     ]
    }
   ],
   "source": [
    "print(Teams[\"csat15\"].describe())"
   ]
  },
  {
   "cell_type": "code",
   "execution_count": 34,
   "metadata": {},
   "outputs": [
    {
     "output_type": "stream",
     "name": "stdout",
     "text": [
      "count    6344.000000\nmean      341.519231\nstd       846.293689\nmin     -2943.000000\n25%      -209.000000\n50%       301.000000\n75%       863.250000\nmax      4003.000000\nName: golddiffat15, dtype: float64\n"
     ]
    }
   ],
   "source": [
    "mid_players = Players['position'] == 'mid'\n",
    "winner_players = Players['result'] == 1\n",
    "winner_mid_players = Players[mid_players & winner_players]      \n",
    "print(winner_mid_players['golddiffat15'].describe())"
   ]
  }
 ],
 "metadata": {
  "kernelspec": {
   "display_name": "Python 3",
   "language": "python",
   "name": "python3"
  },
  "language_info": {
   "codemirror_mode": {
    "name": "ipython",
    "version": 3
   },
   "file_extension": ".py",
   "mimetype": "text/x-python",
   "name": "python",
   "nbconvert_exporter": "python",
   "pygments_lexer": "ipython3",
   "version": "3.8.5-final"
  }
 },
 "nbformat": 4,
 "nbformat_minor": 2
}
